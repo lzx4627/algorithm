{
 "cells": [
  {
   "cell_type": "markdown",
   "metadata": {},
   "source": [
    "## 使用ID3决策树算法预测销量高低\n",
    "\n",
    "![图一：销量数据实例](http://aliyuntianchipublic.cn-hangzhou.oss-pub.aliyun-inc.com/public/files/image/null/1541384589972_6zXK9APiUJ.jpg)"
   ]
  },
  {
   "cell_type": "code",
   "execution_count": 1,
   "metadata": {},
   "outputs": [
    {
     "name": "stdout",
     "output_type": "stream",
     "text": [
      "data.columns:\n",
      "{}\n",
      " Index(['天气', '是否周末', '是否有促销', '销量'], dtype='object')\n",
      "data.index:\n",
      "{}\n",
      " Int64Index([ 1,  2,  3,  4,  5,  6,  7,  8,  9, 10, 11, 12, 13, 14, 15, 16, 17,\n",
      "            18, 19, 20, 21, 22, 23, 24, 25, 26, 27, 28, 29, 30, 31, 32, 33,\n",
      "            34],\n",
      "           dtype='int64', name='序号')\n"
     ]
    },
    {
     "name": "stderr",
     "output_type": "stream",
     "text": [
      "F:\\anaconda\\lib\\site-packages\\ipykernel_launcher.py:26: FutureWarning: Method .as_matrix will be removed in a future version. Use .values instead.\n",
      "F:\\anaconda\\lib\\site-packages\\ipykernel_launcher.py:27: FutureWarning: Method .as_matrix will be removed in a future version. Use .values instead.\n"
     ]
    },
    {
     "name": "stdout",
     "output_type": "stream",
     "text": [
      "fit done!\n",
      "predict done: [ 1 -1]\n"
     ]
    },
    {
     "data": {
      "text/plain": [
       "\"\\nfrom PIL import Image\\nimport matplotlib.pyplot as plt\\n\\nimg=Image.open('D:/python_work/tree.png')\\nplt.rcParams['figure.dpi'] = 200\\nplt.imshow(img)\\n\""
      ]
     },
     "execution_count": 1,
     "metadata": {},
     "output_type": "execute_result"
    }
   ],
   "source": [
    "# -*- coding: utf-8 -*-\n",
    "#使用ID3决策树算法预测销量高低\n",
    "\n",
    "import pandas as pd\n",
    "import numpy as np\n",
    "\n",
    "#参数初始化\n",
    "filename = 'sales_data.csv'\n",
    "#导入数据。 index_col参数指定了索引列\n",
    "data = pd.read_csv(filename, index_col = u'序号')\n",
    "\n",
    "print(\"data.columns:\\n{}\\n\", format(data.columns))\n",
    "print(\"data.index:\\n{}\\n\", format(data.index))\n",
    "\n",
    "#数据都是类别标签， 要将他转化为数据\n",
    "#用 1来表示好，是，高，这三个属性\n",
    "data[data == u'好'] = 1   #如果某个值是“好”，那就给他重新赋值为1.\n",
    "data[data == u'是'] = 1\n",
    "data[data == u'高'] = 1\n",
    "#用 -1 来表示坏，否，低，这三个属性\n",
    "data[data != 1] = -1   #上面没有重新赋值的，都给赋值为 -1\n",
    "\n",
    "# 把数据分别付给两个dataframe变量，以便于后面作为决策树算法的输入\n",
    "#iloc[:,:3]表示第0，1，2列数据，也就是“天气”、“是否周末”、“是否促销” 这三列。python中的范围区间默认是前闭后开\n",
    "#iloc[:,3]表示第3列数据，也就是“销量”这列\n",
    "x = data.iloc[:,:3].as_matrix().astype(int)\n",
    "y = data.iloc[:,3].as_matrix().astype(int)\n",
    "\n",
    "#as_matrix()把数据转为矩阵，astype(int)把数据转为int型\n",
    "\n",
    "#下面重点来了：建立决策树\n",
    "#先把模块导入进来\n",
    "from sklearn.tree import DecisionTreeClassifier as dtc\n",
    "#criterion参数设置为信息熵模式\n",
    "dtcx = dtc(criterion = 'entropy')\n",
    "#核心的代码其实就是下面这发，把数据送入算法函数进行训练\n",
    "dtcx.fit(x, y)\n",
    "print(\"fit done!\")\n",
    "pr = dtcx.predict(np.array([[1,1,1],[-1,1,-1]]))\n",
    "print(\"predict done:\", format(pr))\n",
    "\n",
    "#下面是可视化的部分，把刚才训练好的决策树模型可视化输出。把他当成print()就行\n",
    "from sklearn.tree import export_graphviz\n",
    "from sklearn.externals.six import StringIO\n",
    "x = pd.DataFrame(x)\n",
    "with open(\"tree.dot\",'w') as f:\n",
    "    f = export_graphviz(dtcx,feature_names=x.columns,out_file=f)\n",
    "\n",
    "\n",
    "#下面的代码是将生成的png图打印出来。因为数据列表里不让传图，所以代码中引用的是我本地的图片路径。\n",
    "'''\n",
    "from PIL import Image\n",
    "import matplotlib.pyplot as plt\n",
    "\n",
    "img=Image.open('D:/python_work/tree.png')\n",
    "plt.rcParams['figure.dpi'] = 200\n",
    "plt.imshow(img)\n",
    "'''"
   ]
  },
  {
   "cell_type": "markdown",
   "metadata": {},
   "source": [
    "\n",
    "\n",
    "##### 树图无法直接作为结果输出出来，只能贴出来png.   \n",
    "\n",
    "\n",
    "![通过Graphviz绘制的决策树：](http://aliyuntianchipublic.cn-hangzhou.oss-pub.aliyun-inc.com/public/files/image/null/1541393801453_IJAk9Otpbw.jpg)"
   ]
  },
  {
   "cell_type": "markdown",
   "metadata": {},
   "source": [
    "  \n",
    "  \n",
    "#### 自问自答\n",
    "\n",
    "1. ID3决策树算法中涉及到了信息熵、信息增益等概念，如何理解？  \n",
    "\n",
    "> **$$I = - P(x)\\log_2 {P(x)}$$**    这个公式可以分为2部分，一个是`P(x)`，这是x发生的概率；另外一部分是$-\\log_2 {P(x)}$，它表示需要几个bit来度量P(x)这个信息量；加了负号是为了将bit数取正值，因为概率型数值大部分都小于1，它的对数都是负值；再加个负号就负负得正啦。所以这个负号主要是为了方便度量信息量而加的。  \n",
    "\n",
    "> $-\\log_2 {P(x)}$ 这部分表达式中，为什么说它表示需要几个bit来度量P(x)呢？ 这个就需要看下bit的定义，我百度了一下，对这个概念重新认识了一下：  \n",
    "\n",
    "> 比特（bit）是表示信息的最小单位，是二进制数的一位包含的信息或 **2个选项中特别指定1个的需要信息量**。一般来说，n比特的信息量可以表现出2的n次方种选择。  \n",
    "\n",
    "> 信息增益越大，不确定性越小。\n",
    "\n",
    "2. 对于最后输出的树形图，如何对它进行解读？  \n",
    "\n",
    "> "
   ]
  },
  {
   "cell_type": "code",
   "execution_count": null,
   "metadata": {},
   "outputs": [],
   "source": []
  }
 ],
 "metadata": {
  "kernelspec": {
   "display_name": "Python 3",
   "language": "python",
   "name": "python3"
  },
  "language_info": {
   "codemirror_mode": {
    "name": "ipython",
    "version": 3
   },
   "file_extension": ".py",
   "mimetype": "text/x-python",
   "name": "python",
   "nbconvert_exporter": "python",
   "pygments_lexer": "ipython3",
   "version": "3.7.3"
  }
 },
 "nbformat": 4,
 "nbformat_minor": 2
}
