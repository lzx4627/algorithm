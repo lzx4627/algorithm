{
 "cells": [
  {
   "cell_type": "markdown",
   "metadata": {},
   "source": [
    "最近看完了《机器学习实战》和天池直播课堂中的决策树算法，觉得意犹未尽，特别是信息熵部分理解并不透彻，于是又把西瓜书中的决策树看了，略有感悟，希望与大家分享一下，下面我按照自己的理解，尽量用通俗的语言总结记录下决策树算法。\n",
    "## 1.决策树介绍\n",
    "举个通俗的栗子来解释一下什么是决策树，想象一个女孩的母亲要给这个女孩介绍男朋友：\n",
    "\n",
    ">女儿：有没有房子？母亲：有。\n",
    ">\n",
    ">女儿：长的帅不帅？母亲：挺帅的。\n",
    ">\n",
    ">女儿：收入高不？\n",
    ">母亲：不算很高，中等情况。\n",
    ">\n",
    ">女儿：是公务员不？母亲：是，在税务局上班呢。\n",
    ">\n",
    ">女儿：那好，我去见见。\n",
    "\n",
    "这个女孩的决策过程就是典型的分类树决策。相当于通过是否有房、长相、收入和是否公务员对将男人分为两个类别：见和不见。下面我们通过流程图把女儿的决策树判断过程展现出来：\n",
    "\n",
    "![](http://aliyuntianchipublic.cn-hangzhou.oss-pub.aliyun-inc.com/public/files/image/null/1536117333376_XUe8lEuNHY.jpg)\n",
    "\n",
    "通过这个例子，大家已经对决策树算法有个基本了解了吧，这也是决策树算法的一大优势——数据形式非常容易理解。"
   ]
  },
  {
   "cell_type": "markdown",
   "metadata": {},
   "source": [
    "## 2.用python构造决策树基本流程\n",
    "下图是西瓜书中的决策树学习基本算法，接下来我们将根据这个算法流程用python代码自己写一棵决策树。\n",
    "\n",
    "![](http://aliyuntianchipublic.cn-hangzhou.oss-pub.aliyun-inc.com/public/files/image/null/1536110759639_8gDU9F6wFL.jpg)"
   ]
  },
  {
   "cell_type": "markdown",
   "metadata": {},
   "source": [
    "在构造决策树时，要解决的第一个问题就是，当前数据集哪个特征在划分数据分类时起决定性作用。在前面相亲的例子中，女孩为何第一个问题是“是否有房子”呢，因为是否有房子这个特征能够提供的“信息量”很大，划分选择就是找提供“信息量”最大的特征，学术上叫**信息增益**。"
   ]
  },
  {
   "cell_type": "markdown",
   "metadata": {},
   "source": [
    "## 3.划分选择(按照信息增益)\n",
    "什么是信息增益呢，官方介绍请参考西瓜书哈，个人认为就是一个信息提纯的过程，比如一堆黄豆和一堆红豆混在一起，这时候信息的纯度是很低的，如果我们把红豆挑出来了分成两堆，那这时候纯度就高了。这就是一个信息增益的过程，衡量信息纯度的标准，就是**信息熵**。\n",
    "\n",
    "**信息熵**是度量样本集合纯度最常用的一种指标，我的个人理解是对一个事件进行编码，所需要的平均码长就是信息熵，纯度越高，需要的平均代码就越短，信息熵越低。\n",
    "\n",
    "当前样本集合D中第k类样本所占的比例为pk(k=1,2,...,n)，则D的信息熵定义为$$Ent(D)=-\\sum_{k=1}^np_klog_2p_k$$。\n",
    "\n",
    "Ent(D)的值越小，则D的纯度越高。"
   ]
  },
  {
   "cell_type": "markdown",
   "metadata": {},
   "source": [
    "### 3.1计算信息熵Ent"
   ]
  },
  {
   "cell_type": "code",
   "execution_count": 1,
   "metadata": {},
   "outputs": [],
   "source": [
    "import pandas as pd\n",
    "import numpy as np\n",
    "from matplotlib import pyplot as plt\n",
    "%matplotlib inline"
   ]
  },
  {
   "cell_type": "code",
   "execution_count": 2,
   "metadata": {},
   "outputs": [],
   "source": [
    "#计算给定数据集的香浓熵\n",
    "from math import log\n",
    "\n",
    "def Ent(dataset):\n",
    "    n = len(dataset)\n",
    "    label_counts = {}\n",
    "    for item in dataset:\n",
    "        label_current = item[-1]\n",
    "        if label_current not in label_counts.keys():\n",
    "            label_counts[label_current] = 0\n",
    "        label_counts[label_current] += 1\n",
    "    ent = 0.0\n",
    "    for key in label_counts:\n",
    "        prob = label_counts[key]/n\n",
    "        ent -= prob * log(prob,2)\n",
    "    return ent"
   ]
  },
  {
   "cell_type": "markdown",
   "metadata": {},
   "source": [
    "### 3.2计算信息增益Gain\n",
    "\n",
    "假定离散属性a有V个可能取值，则会产生V个分支节点，考虑样本数的不同赋予权重|D^v|/|D|,则可以计算出属性a对样本集D进行划分所获得的**信息增益**为$$Gain(D,a) = Ent(D) - \\sum_{v=1}^V \\frac{|D^v|}{|D|} Ent(D^v)$$"
   ]
  },
  {
   "cell_type": "code",
   "execution_count": 7,
   "metadata": {},
   "outputs": [],
   "source": [
    "#按照权重计算各分支的信息熵\n",
    "def sum_weight(grouped,total_len):\n",
    "    weight = len(grouped)/total_len\n",
    "    return weight * Ent(grouped.iloc[:,-1])\n",
    "\n",
    "#根据公式计算信息增益\n",
    "def Gain(column, data):\n",
    "    lenth = len(data)\n",
    "    ent_sum = data.groupby(column).apply(lambda x:sum_weight(x,lenth)).sum() \n",
    "    ent_D = Ent(data.iloc[:,-1])\n",
    "    return ent_D - ent_sum\n"
   ]
  },
  {
   "cell_type": "markdown",
   "metadata": {},
   "source": [
    "## 4.使用递归构造决策树\n",
    "这里我们使用字典存储决策树的结构，如相亲例子中的决策树为（就做两层）\n",
    "\n",
    "``{'是否有房子':{'是':{'是否长得帅':{'是':'见一见'},'否':'不见'},'否':'不见'}}``\n",
    "\n",
    "因为我工作中pandas用得比较多，所以表格数据处理部分用的是pandas"
   ]
  },
  {
   "cell_type": "code",
   "execution_count": 8,
   "metadata": {},
   "outputs": [],
   "source": [
    "# 计算获取最大的信息增益的feature，输入data是一个dataframe，返回是一个字符串\n",
    "def get_max_gain(data):\n",
    "    max_gain = 0\n",
    "    cols = data.columns[:-1]\n",
    "    for col in cols:\n",
    "        gain = Gain(col,data)\n",
    "        if gain > max_gain:\n",
    "            max_gain = gain\n",
    "            max_label = col\n",
    "    return max_label\n",
    "  \n",
    "#获取data中最多的类别作为节点分类，输入一个series，返回一个索引值，为字符串\n",
    "def get_most_label(label_list):\n",
    "    return label_list.value_counts().idxmax()\n",
    "\n",
    "# 创建决策树，传入的是一个dataframe，最后一列为label\n",
    "def TreeGenerate(data):\n",
    "    feature = data.columns[:-1]\n",
    "    label_list = data.iloc[:, -1]\n",
    "    #如果样本全属于同一类别C，将此节点标记为C类叶节点\n",
    "    if len(pd.unique(label_list)) == 1:\n",
    "        return label_list.values[0]\n",
    "    #如果待划分的属性集A为空，或者样本在属性A上取值相同，则把该节点作为叶节点，并标记为样本数最多的分类\n",
    "    elif len(feature)==0 or len(data.loc[:,feature].drop_duplicates())==1:\n",
    "        return get_most_label(label_list)\n",
    "    #从A中选择最优划分属性\n",
    "    best_attr = get_max_gain(data)\n",
    "    tree = {best_attr: {}}\n",
    "    #对于最优划分属性的每个属性值，生成一个分支\n",
    "    for attr,gb_data in data.groupby(by=best_attr):\n",
    "        if len(gb_data) == 0:\n",
    "            tree[best_attr][attr] = get_most_label(label_list)\n",
    "        else:\n",
    "            #在data中去掉已划分的属性\n",
    "            new_data = gb_data.drop(best_attr,axis=1)\n",
    "            #递归构造决策树\n",
    "            tree[best_attr][attr] = TreeGenerate(new_data)\n",
    "    return tree"
   ]
  },
  {
   "cell_type": "code",
   "execution_count": 9,
   "metadata": {},
   "outputs": [
    {
     "ename": "AttributeError",
     "evalue": "'_io.TextIOWrapper' object has no attribute 'columns'",
     "output_type": "error",
     "traceback": [
      "\u001b[1;31m---------------------------------------------------------------------------\u001b[0m",
      "\u001b[1;31mAttributeError\u001b[0m                            Traceback (most recent call last)",
      "\u001b[1;32m<ipython-input-9-ba341e550f0b>\u001b[0m in \u001b[0;36m<module>\u001b[1;34m\u001b[0m\n\u001b[0;32m      1\u001b[0m \u001b[1;31m#得到经过训练后的决策树\u001b[0m\u001b[1;33m\u001b[0m\u001b[1;33m\u001b[0m\u001b[1;33m\u001b[0m\u001b[0m\n\u001b[1;32m----> 2\u001b[1;33m \u001b[0mmytree\u001b[0m \u001b[1;33m=\u001b[0m \u001b[0mTreeGenerate\u001b[0m\u001b[1;33m(\u001b[0m\u001b[0mdata\u001b[0m\u001b[1;33m)\u001b[0m\u001b[1;33m\u001b[0m\u001b[1;33m\u001b[0m\u001b[0m\n\u001b[0m\u001b[0;32m      3\u001b[0m \u001b[0mmytree\u001b[0m\u001b[1;33m\u001b[0m\u001b[1;33m\u001b[0m\u001b[0m\n",
      "\u001b[1;32m<ipython-input-8-68030979aa58>\u001b[0m in \u001b[0;36mTreeGenerate\u001b[1;34m(data)\u001b[0m\n\u001b[0;32m     16\u001b[0m \u001b[1;31m# 创建决策树，传入的是一个dataframe，最后一列为label\u001b[0m\u001b[1;33m\u001b[0m\u001b[1;33m\u001b[0m\u001b[1;33m\u001b[0m\u001b[0m\n\u001b[0;32m     17\u001b[0m \u001b[1;32mdef\u001b[0m \u001b[0mTreeGenerate\u001b[0m\u001b[1;33m(\u001b[0m\u001b[0mdata\u001b[0m\u001b[1;33m)\u001b[0m\u001b[1;33m:\u001b[0m\u001b[1;33m\u001b[0m\u001b[1;33m\u001b[0m\u001b[0m\n\u001b[1;32m---> 18\u001b[1;33m     \u001b[0mfeature\u001b[0m \u001b[1;33m=\u001b[0m \u001b[0mdata\u001b[0m\u001b[1;33m.\u001b[0m\u001b[0mcolumns\u001b[0m\u001b[1;33m[\u001b[0m\u001b[1;33m:\u001b[0m\u001b[1;33m-\u001b[0m\u001b[1;36m1\u001b[0m\u001b[1;33m]\u001b[0m\u001b[1;33m\u001b[0m\u001b[1;33m\u001b[0m\u001b[0m\n\u001b[0m\u001b[0;32m     19\u001b[0m     \u001b[0mlabel_list\u001b[0m \u001b[1;33m=\u001b[0m \u001b[0mdata\u001b[0m\u001b[1;33m.\u001b[0m\u001b[0miloc\u001b[0m\u001b[1;33m[\u001b[0m\u001b[1;33m:\u001b[0m\u001b[1;33m,\u001b[0m \u001b[1;33m-\u001b[0m\u001b[1;36m1\u001b[0m\u001b[1;33m]\u001b[0m\u001b[1;33m\u001b[0m\u001b[1;33m\u001b[0m\u001b[0m\n\u001b[0;32m     20\u001b[0m     \u001b[1;31m#如果样本全属于同一类别C，将此节点标记为C类叶节点\u001b[0m\u001b[1;33m\u001b[0m\u001b[1;33m\u001b[0m\u001b[1;33m\u001b[0m\u001b[0m\n",
      "\u001b[1;31mAttributeError\u001b[0m: '_io.TextIOWrapper' object has no attribute 'columns'"
     ]
    }
   ],
   "source": [
    "#得到经过训练后的决策树\n",
    "mytree = TreeGenerate(data)\n",
    "mytree"
   ]
  },
  {
   "cell_type": "code",
   "execution_count": null,
   "metadata": {},
   "outputs": [],
   "source": []
  }
 ],
 "metadata": {
  "kernelspec": {
   "display_name": "Python 3",
   "language": "python",
   "name": "python3"
  },
  "language_info": {
   "codemirror_mode": {
    "name": "ipython",
    "version": 3
   },
   "file_extension": ".py",
   "mimetype": "text/x-python",
   "name": "python",
   "nbconvert_exporter": "python",
   "pygments_lexer": "ipython3",
   "version": "3.7.3"
  }
 },
 "nbformat": 4,
 "nbformat_minor": 2
}
