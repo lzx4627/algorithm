{
 "cells": [
  {
   "cell_type": "markdown",
   "metadata": {},
   "source": [
    "# 逻辑回归是什么？要有哪些未知参数待求解？如何优化？梯度下降是什么？如何用梯度下降求逻辑回归未知参数？\n",
    "作者：知乎[@Ai酱](https://www.zhihu.com/people/yuanmuou/activities)\n",
    "本文要解决的是标题上的那些问题。\n",
    "## 1. 任何机器学习套路\n",
    "任何机器学习套路都逃不掉：`使用一个数学模型来套到数据上`->`任何数学模型都有待设定的参数，不同数据适合不同参数值`->`怎么评价这些参数设定值好不好（设计误差函数）`->`用梯度下降或者其他方法求解误差函数最小值点的自变量值（即获得较优参数值）`。**细心的你或许发现了，我用的是\"较优\"而不是\"最优\"**。这是因为梯度下降只有在长得像锅的那种函数（学名“凸函数”）才可以找到最优参数值。一般情况找的并不是最优值，其实较优也不错啦。\n",
    "## 2. 逻辑回归套的数学模型\n",
    "$f(x) = sigmoid(wx+b)$这就是逻辑回归套的数学模型。**x是输入的样本值，f(x)是x所属分类。在本文中有两个类标签为0,1**。一般模型无法做到x标签是0就输出0，而是输出0.0001，这个很接近0但是不是0。因此我们认为f(x)>0.5它就是属于1，f(x)<0.5就属于0。**$f(x)=sigmoid(wx+b)$它待设定参数是w和b。那么我怎么知道w设置多少是最优的呢**？那就得设计一个误差函数来评估设置的w是不是最优的。一般是用两点间距离公式来作为误差函数。即：$误差函数(w,b)=(样本标签值-sigmoid(wx+b))^2$。注意：$sigmoid(z)=\\frac 1 {1+e^{-z}}$，然后sigmoid函数求导的结果是这样的（你不会算也没关系网上查的到的）$sigmoid'(z)=sigmoid(z)(1-sigmoid(z))$\n",
    "现在误差函数确定了那就得用梯度下降根据误差函数来求解最优的w和b。问题来了梯度下降是什么？\n",
    "## 3. 梯度下降是什么？\n",
    "参考这个知乎回答，非常推荐[通俗的讲梯度下降是什么？](https://www.zhihu.com/question/305638940/answer/670034343)。\n",
    "好了假设你已经看完了那个回答，并且懂了梯度下降大概怎么回事。那就继续讲怎么用梯度下降根据$误差函数(w)=(样本标签值-sigmoid(wx))^2$来求解较优的w。\n",
    "# 4. 怎么用梯度下降确定逻辑回归里面的套的数学模型中两个待设定的参数w和b的比较好的取值。\n",
    "它是通过迭代的方式来求w。\n",
    "1. 给w和b随机赋一个值\n",
    "2. 循环(很多次){\n",
    "    - 输入一个样本x;\n",
    "     注意：$sigmoid(x)=\\frac 1 {1+e^{-x}}$，然后sigmoid函数求导的结果是这样的（你不会算也没关系网上查的到的）$sigmoid'(x)=sigmoid(x)(1-sigmoid(x))$，而且**f(x) = sigmoid(wx+b),x是输入的样本值，f(x)是x所属分类**。\n",
    "\n",
    "    - 计算$\\frac {d(误差函数(w))}{dw}=\\frac {d((样本标签值-sigmoid(wx+b))^2)}{dw}=-2*(样本标签值-sigmoid(wx+b))*sigmoid'(wx+b)*x=-2*(样本标签值-sigmoid(wx+b))*sigmoid(wx+b)*(1-sigmoid(wx+b))*x=-2*(样本标签值-f(x))*f(x)*(1-f(x))*x$\n",
    "    - $w = w - 0.01 * \\frac {d(误差函数(w))}{dw}$；注意：那个0.01可以你微调的，这个参数叫做学习率。因为梯度下降本质就是不断猜w是多少，如果学习率太大，梯度下降就一下子猜的跨度很大不容易收敛。如果学习率太小一来速度慢而来容易陷入在局部最优解。\n",
    "    - 计算$\\frac {d(误差函数(b))}{db}=\\frac {d((样本标签值-sigmoid(wx+b))^2)}{dw}=-2*(样本标签值-sigmoid(wx+b))*sigmoid'(wx+b)=-2*(样本标签值-sigmoid(wx+b))*sigmoid(wx+b)*(1-sigmoid(wx+b))=-2*(样本标签值-f(x))*f(x)*(1-f(x))$\n",
    "    - $b = b - 0.01 * \\frac {d(误差函数(b))}{db}$；\n",
    "\n",
    "}\n",
    "\n",
    "然后我们就得到了一个不错的模型。打个比方就是$f(x)=sigmoid(0.231*x)$\n",
    "# 下面是Python编程实践逻辑回归+梯度下降"
   ]
  },
  {
   "cell_type": "code",
   "execution_count": 2,
   "metadata": {},
   "outputs": [
    {
     "name": "stdout",
     "output_type": "stream",
     "text": [
      "将数据绘制如下图所示：\n"
     ]
    },
    {
     "data": {
      "text/plain": [
       "<matplotlib.collections.PathCollection at 0x96f9128>"
      ]
     },
     "execution_count": 2,
     "metadata": {},
     "output_type": "execute_result"
    },
    {
     "data": {
      "image/png": "[encoded data removed]",
      "text/plain": [
       "<Figure size 432x288 with 1 Axes>"
      ]
     },
     "metadata": {
      "needs_background": "light"
     },
     "output_type": "display_data"
    }
   ],
   "source": [
    "# 绘图案例 an example of matplotlib\n",
    "%matplotlib inline\n",
    "import numpy as np\n",
    "import matplotlib.pyplot as plt\n",
    "\n",
    "##########加载数据############\n",
    "def load_data_set():\n",
    "    \"\"\"\n",
    "    加载数据集\n",
    "    :return:返回两个数组，普通数组 \n",
    "        data_arr -- 原始数据的特征\n",
    "        label_arr -- 原始数据的标签，也就是每条样本对应的类别\n",
    "    \"\"\"\n",
    "    data_arr = []\n",
    "    label_arr = []\n",
    "    # 如果想下载参照https://github.com/varyshare/AiLearning/blob/master/data/5.Logistic/TestSet.txt\n",
    "    # 欢迎follow的我github\n",
    "    f = open('./dataset/TestSet.txt', 'r')\n",
    "    for line in f.readlines():\n",
    "        line_arr = line.strip().split()\n",
    "        data_arr.append([np.float(line_arr[0]), np.float(line_arr[1])])\n",
    "        label_arr.append(int(line_arr[2]))\n",
    "    return np.array(data_arr), np.array(label_arr)\n",
    "x,label = load_data_set()\n",
    "\n",
    "print('将数据绘制如下图所示：')\n",
    "plt.scatter(x[label==1,0],x[label==1,1])\n",
    "plt.scatter(x[label==0,0],x[label==0,1])"
   ]
  },
  {
   "cell_type": "code",
   "execution_count": 3,
   "metadata": {},
   "outputs": [
    {
     "name": "stdout",
     "output_type": "stream",
     "text": [
      "准确率：97.000 %\n",
      "将wx+b=0这条直线和数据一起绘制如下图所示：\n"
     ]
    },
    {
     "data": {
      "text/plain": [
       "[<matplotlib.lines.Line2D at 0x97a4198>]"
      ]
     },
     "execution_count": 3,
     "metadata": {},
     "output_type": "execute_result"
    },
    {
     "data": {
      "image/png": "[encoded data removed]",
      "text/plain": [
       "<Figure size 432x288 with 1 Axes>"
      ]
     },
     "metadata": {
      "needs_background": "light"
     },
     "output_type": "display_data"
    }
   ],
   "source": [
    "##########套一个数学模型############\n",
    "# 数学模型就是sigmoid(w*x+b)\n",
    "# 随机给w和b赋值\n",
    "w = np.random.rand(x.shape[1])-0.5\n",
    "b = np.random.rand()-0.5\n",
    "def sigmoid(x):\n",
    "    return 1/(1+np.exp(-x))\n",
    "def f(x):\n",
    "    '''输入x，return返回sigmoid(w*x)'''  \n",
    "    return sigmoid(np.matmul(x,w)+b)\n",
    "    pass\n",
    "\n",
    "def classifier(x):\n",
    "    result =f(x)\n",
    "    result[result>0.5]=1\n",
    "    result[result<0.5]=0\n",
    "    return result\n",
    "\n",
    "\n",
    "##########梯度下降求解较优的w,b值############\n",
    "learning_rate = 0.01 #学习率\n",
    "epoch = 500 #用同样的数据反复训练100次\n",
    "for i in range(epoch):\n",
    "    for i in range(x.shape[0]):# 一个一个的输入样本训练\n",
    "        xi     = x[i]\n",
    "        labeli = label[i]\n",
    "        w = w - learning_rate *(-(labeli-f(xi))*f(xi)*(1-f(xi))*xi)\n",
    "        b = b - learning_rate *(-(labeli-f(xi))*f(xi)*(1-f(xi)))\n",
    "    pass\n",
    "pass\n",
    "\n",
    "#########此时我们已经得到比较不错的w和b的取值了####################\n",
    "classi_result = classifier(x)\n",
    "print('准确率：%.3f %%'%(np.count_nonzero(np.equal(classi_result,label))/np.float(x.shape[0])*100.0))\n",
    "print('将wx+b=0这条直线和数据一起绘制如下图所示：')\n",
    "# 数据散点图\n",
    "plt.scatter(x[label==1,0],x[label==1,1])\n",
    "plt.scatter(x[label==0,0],x[label==0,1])\n",
    "# 绘制我们学习到的直线\n",
    "x0 = np.linspace(-3.0, 3.0, num=100)\n",
    "x1 = (-w[0]*x0-b)/w[1]\n",
    "plt.plot(x0,x1)\n"
   ]
  },
  {
   "cell_type": "code",
   "execution_count": null,
   "metadata": {},
   "outputs": [],
   "source": []
  }
 ],
 "metadata": {
  "kernelspec": {
   "display_name": "Python 3",
   "language": "python",
   "name": "python3"
  },
  "language_info": {
   "codemirror_mode": {
    "name": "ipython",
    "version": 3
   },
   "file_extension": ".py",
   "mimetype": "text/x-python",
   "name": "python",
   "nbconvert_exporter": "python",
   "pygments_lexer": "ipython3",
   "version": "3.7.3"
  }
 },
 "nbformat": 4,
 "nbformat_minor": 2
}
