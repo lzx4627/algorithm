{
 "cells": [
  {
   "cell_type": "markdown",
   "metadata": {},
   "source": [
    "## 1. 数据读取与预览(老规矩)"
   ]
  },
  {
   "cell_type": "code",
   "execution_count": 1,
   "metadata": {},
   "outputs": [],
   "source": [
    "import numpy as np\n",
    "import pandas as pd\n",
    "import matplotlib.pyplot as plt\n",
    "import seaborn as sns\n",
    "\n",
    "import warnings\n",
    "warnings.filterwarnings('ignore')\n"
   ]
  },
  {
   "cell_type": "code",
   "execution_count": 2,
   "metadata": {},
   "outputs": [
    {
     "name": "stdout",
     "output_type": "stream",
     "text": [
      "<class 'pandas.core.frame.DataFrame'>\n",
      "RangeIndex: 32561 entries, 0 to 32560\n",
      "Data columns (total 7 columns):\n",
      "年龄        32561 non-null int64\n",
      "受教育时间     32561 non-null int64\n",
      "性别        32561 non-null object\n",
      "资产净增      32561 non-null int64\n",
      "资产损失      32561 non-null int64\n",
      "一周工作时间    32561 non-null int64\n",
      "收入水平      32561 non-null object\n",
      "dtypes: int64(5), object(2)\n",
      "memory usage: 1.7+ MB\n"
     ]
    }
   ],
   "source": [
    "df=pd.read_csv(\"./dataset/个人收入水平调查分析.csv\")\n",
    "df.info()"
   ]
  },
  {
   "cell_type": "code",
   "execution_count": 3,
   "metadata": {},
   "outputs": [
    {
     "data": {
      "text/html": [
       "<div>\n",
       "<style scoped>\n",
       "    .dataframe tbody tr th:only-of-type {\n",
       "        vertical-align: middle;\n",
       "    }\n",
       "\n",
       "    .dataframe tbody tr th {\n",
       "        vertical-align: top;\n",
       "    }\n",
       "\n",
       "    .dataframe thead th {\n",
       "        text-align: right;\n",
       "    }\n",
       "</style>\n",
       "<table border=\"1\" class=\"dataframe\">\n",
       "  <thead>\n",
       "    <tr style=\"text-align: right;\">\n",
       "      <th></th>\n",
       "      <th>年龄</th>\n",
       "      <th>受教育时间</th>\n",
       "      <th>资产净增</th>\n",
       "      <th>资产损失</th>\n",
       "      <th>一周工作时间</th>\n",
       "    </tr>\n",
       "  </thead>\n",
       "  <tbody>\n",
       "    <tr>\n",
       "      <th>count</th>\n",
       "      <td>32561.000000</td>\n",
       "      <td>32561.000000</td>\n",
       "      <td>32561.000000</td>\n",
       "      <td>32561.000000</td>\n",
       "      <td>32561.000000</td>\n",
       "    </tr>\n",
       "    <tr>\n",
       "      <th>mean</th>\n",
       "      <td>38.581647</td>\n",
       "      <td>10.080679</td>\n",
       "      <td>1077.648844</td>\n",
       "      <td>87.303830</td>\n",
       "      <td>40.437456</td>\n",
       "    </tr>\n",
       "    <tr>\n",
       "      <th>std</th>\n",
       "      <td>13.640433</td>\n",
       "      <td>2.572720</td>\n",
       "      <td>7385.292085</td>\n",
       "      <td>402.960219</td>\n",
       "      <td>12.347429</td>\n",
       "    </tr>\n",
       "    <tr>\n",
       "      <th>min</th>\n",
       "      <td>17.000000</td>\n",
       "      <td>1.000000</td>\n",
       "      <td>0.000000</td>\n",
       "      <td>0.000000</td>\n",
       "      <td>1.000000</td>\n",
       "    </tr>\n",
       "    <tr>\n",
       "      <th>25%</th>\n",
       "      <td>28.000000</td>\n",
       "      <td>9.000000</td>\n",
       "      <td>0.000000</td>\n",
       "      <td>0.000000</td>\n",
       "      <td>40.000000</td>\n",
       "    </tr>\n",
       "    <tr>\n",
       "      <th>50%</th>\n",
       "      <td>37.000000</td>\n",
       "      <td>10.000000</td>\n",
       "      <td>0.000000</td>\n",
       "      <td>0.000000</td>\n",
       "      <td>40.000000</td>\n",
       "    </tr>\n",
       "    <tr>\n",
       "      <th>75%</th>\n",
       "      <td>48.000000</td>\n",
       "      <td>12.000000</td>\n",
       "      <td>0.000000</td>\n",
       "      <td>0.000000</td>\n",
       "      <td>45.000000</td>\n",
       "    </tr>\n",
       "    <tr>\n",
       "      <th>max</th>\n",
       "      <td>90.000000</td>\n",
       "      <td>16.000000</td>\n",
       "      <td>99999.000000</td>\n",
       "      <td>4356.000000</td>\n",
       "      <td>99.000000</td>\n",
       "    </tr>\n",
       "  </tbody>\n",
       "</table>\n",
       "</div>"
      ],
      "text/plain": [
       "                 年龄         受教育时间          资产净增          资产损失        一周工作时间\n",
       "count  32561.000000  32561.000000  32561.000000  32561.000000  32561.000000\n",
       "mean      38.581647     10.080679   1077.648844     87.303830     40.437456\n",
       "std       13.640433      2.572720   7385.292085    402.960219     12.347429\n",
       "min       17.000000      1.000000      0.000000      0.000000      1.000000\n",
       "25%       28.000000      9.000000      0.000000      0.000000     40.000000\n",
       "50%       37.000000     10.000000      0.000000      0.000000     40.000000\n",
       "75%       48.000000     12.000000      0.000000      0.000000     45.000000\n",
       "max       90.000000     16.000000  99999.000000   4356.000000     99.000000"
      ]
     },
     "execution_count": 3,
     "metadata": {},
     "output_type": "execute_result"
    }
   ],
   "source": [
    "df.describe()"
   ]
  },
  {
   "cell_type": "markdown",
   "metadata": {},
   "source": [
    "## 2. 数据预处理"
   ]
  },
  {
   "cell_type": "code",
   "execution_count": 4,
   "metadata": {},
   "outputs": [],
   "source": [
    "def one_or_zero(x):\n",
    "  if x==\"Male\" or \">\" in x:\n",
    "    return 1 \n",
    "  else :\n",
    "    return 0\n",
    "  \n",
    "df[\"性别\"]=df[\"性别\"].apply(one_or_zero)\n",
    "df[\"收入水平\"]=df[\"收入水平\"].apply(one_or_zero)"
   ]
  },
  {
   "cell_type": "code",
   "execution_count": 5,
   "metadata": {},
   "outputs": [
    {
     "data": {
      "text/html": [
       "<div>\n",
       "<style scoped>\n",
       "    .dataframe tbody tr th:only-of-type {\n",
       "        vertical-align: middle;\n",
       "    }\n",
       "\n",
       "    .dataframe tbody tr th {\n",
       "        vertical-align: top;\n",
       "    }\n",
       "\n",
       "    .dataframe thead th {\n",
       "        text-align: right;\n",
       "    }\n",
       "</style>\n",
       "<table border=\"1\" class=\"dataframe\">\n",
       "  <thead>\n",
       "    <tr style=\"text-align: right;\">\n",
       "      <th></th>\n",
       "      <th>年龄</th>\n",
       "      <th>受教育时间</th>\n",
       "      <th>性别</th>\n",
       "      <th>资产净增</th>\n",
       "      <th>资产损失</th>\n",
       "      <th>一周工作时间</th>\n",
       "      <th>收入水平</th>\n",
       "    </tr>\n",
       "  </thead>\n",
       "  <tbody>\n",
       "    <tr>\n",
       "      <th>0</th>\n",
       "      <td>39</td>\n",
       "      <td>13</td>\n",
       "      <td>1</td>\n",
       "      <td>2174</td>\n",
       "      <td>0</td>\n",
       "      <td>40</td>\n",
       "      <td>0</td>\n",
       "    </tr>\n",
       "    <tr>\n",
       "      <th>1</th>\n",
       "      <td>50</td>\n",
       "      <td>13</td>\n",
       "      <td>1</td>\n",
       "      <td>0</td>\n",
       "      <td>0</td>\n",
       "      <td>13</td>\n",
       "      <td>0</td>\n",
       "    </tr>\n",
       "    <tr>\n",
       "      <th>2</th>\n",
       "      <td>38</td>\n",
       "      <td>9</td>\n",
       "      <td>1</td>\n",
       "      <td>0</td>\n",
       "      <td>0</td>\n",
       "      <td>40</td>\n",
       "      <td>0</td>\n",
       "    </tr>\n",
       "    <tr>\n",
       "      <th>3</th>\n",
       "      <td>53</td>\n",
       "      <td>7</td>\n",
       "      <td>1</td>\n",
       "      <td>0</td>\n",
       "      <td>0</td>\n",
       "      <td>40</td>\n",
       "      <td>0</td>\n",
       "    </tr>\n",
       "    <tr>\n",
       "      <th>4</th>\n",
       "      <td>28</td>\n",
       "      <td>13</td>\n",
       "      <td>0</td>\n",
       "      <td>0</td>\n",
       "      <td>0</td>\n",
       "      <td>40</td>\n",
       "      <td>0</td>\n",
       "    </tr>\n",
       "  </tbody>\n",
       "</table>\n",
       "</div>"
      ],
      "text/plain": [
       "   年龄  受教育时间  性别  资产净增  资产损失  一周工作时间  收入水平\n",
       "0  39     13   1  2174     0      40     0\n",
       "1  50     13   1     0     0      13     0\n",
       "2  38      9   1     0     0      40     0\n",
       "3  53      7   1     0     0      40     0\n",
       "4  28     13   0     0     0      40     0"
      ]
     },
     "execution_count": 5,
     "metadata": {},
     "output_type": "execute_result"
    }
   ],
   "source": [
    "data=df.copy()\n",
    "# data[\"性别\"].unique()\n",
    "# data[\"收入水平\"].unique()\n",
    "data.head()"
   ]
  },
  {
   "cell_type": "markdown",
   "metadata": {},
   "source": [
    "### 2.1 调试阶段(数据分割)"
   ]
  },
  {
   "cell_type": "code",
   "execution_count": 7,
   "metadata": {},
   "outputs": [
    {
     "name": "stdout",
     "output_type": "stream",
     "text": [
      "12561\n",
      "0\n",
      "1\n",
      "0\n",
      "12561\n"
     ]
    }
   ],
   "source": [
    "m, n = data.shape\n",
    "da=np.array(data)\n",
    "data.iloc[:,-1]\n",
    "data.iloc[:,:-1]\n",
    "\n",
    "# 数据集分割\n",
    "data_mat=np.array(data.iloc[:20000,:-1])\n",
    "class_labels=np.array(data.iloc[:20000,-1])\n",
    "\n",
    "data_mat_ce=np.array(data.iloc[20000:,:-1])\n",
    "class_label_ce=np.array(data.iloc[20000:,-1])\n",
    "type(class_labels)\n",
    "\n",
    "\n",
    "print(len(class_label_ce))\n",
    "for i in class_label_ce[:3]:\n",
    "    print(i)\n",
    "print(len(data_mat_ce))   \n"
   ]
  },
  {
   "cell_type": "markdown",
   "metadata": {},
   "source": [
    "## 3. 回归系数计算\n",
    "### 3.1  随机梯度上升算法（随机化）"
   ]
  },
  {
   "cell_type": "code",
   "execution_count": 8,
   "metadata": {},
   "outputs": [],
   "source": [
    "def sigmoid(x):\n",
    "    # 这里其实非常有必要解释一下，会出现的错误 RuntimeWarning: overflow encountered in exp\n",
    "    # 这个错误在学习阶段虽然可以忽略，但是我们至少应该知道为什么\n",
    "    # 这里是因为我们输入的有的 x 实在是太小了，比如 -6000之类的，那么计算一个数字 np.exp(6000)这个结果太大了，没法表示，所以就溢出了\n",
    "    # 如果是计算 np.exp（-6000），这样虽然也会溢出，但是这是下溢，就是表示成零\n",
    "    # 去网上搜了很多方法，比如 使用bigfloat这个库（我竟然没有安装成功，就不尝试了，反正应该是有用的\n",
    "    return 1.0 / (1 + np.exp(-x))\n",
    "def stoc_grad_ascent1(data_mat, class_labels, num_iter=150):\n",
    "    \"\"\"\n",
    "    改进版的随机梯度上升，使用随机的一个样本来更新回归系数\n",
    "    :param data_mat: 输入数据的数据特征（除去最后一列）,ndarray\n",
    "    :param class_labels: 输入数据的类别标签（最后一列数据\n",
    "    :param num_iter: 迭代次数\n",
    "    :return: 得到的最佳回归系数\n",
    "    \"\"\"\n",
    "    m, n = np.shape(data_mat)\n",
    "    # 初始化权重系数\n",
    "    weights = np.ones(n)\n",
    "    for j in range(num_iter):\n",
    "        # 这里必须要用list，不然后面的del没法使用\n",
    "        data_index = list(range(m))\n",
    "        for i in range(m):\n",
    "            # i和j的不断增大，导致alpha的值不断减少，但是不为0\n",
    "            alpha = 4 / (1.0 + j + i) + 0.01\n",
    "            # 随机产生一个 0～len()之间的一个值\n",
    "            # random.uniform(x, y) 方法将随机生成下一个实数，它在[x,y]范围内,x是这个范围内的最小值，y是这个范围内的最大值。\n",
    "            rand_index = int(np.random.uniform(0, len(data_index)))\n",
    "            \n",
    "            # 使用随机值索引\n",
    "            h = sigmoid(np.sum(data_mat[data_index[rand_index]] * weights))\n",
    "            \n",
    "            # 计算差值\n",
    "            error = class_labels[data_index[rand_index]] - h\n",
    "            \n",
    "            # 重新配置权值\n",
    "            weights = weights + alpha * error * data_mat[data_index[rand_index]]\n",
    "            \n",
    "            #del(data_index[rand_index])\n",
    "        #print(pd.DataFrame(weights).head(5))\n",
    "        #print(pd.DataFrame(data_mat[data_index[rand_index]]).head(5))\n",
    "        #rint(h)\n",
    "    return weights\n",
    "#a=stoc_grad_ascent1(data_mat, class_labels, num_iter=10)\n",
    "#print(a)"
   ]
  },
  {
   "cell_type": "code",
   "execution_count": 9,
   "metadata": {},
   "outputs": [],
   "source": [
    "#  循环遍历计算\n",
    "def classify_vector(in_x, weights):\n",
    "    \"\"\"\n",
    "    最终的分类函数，根据回归系数和特征向量来计算 Sigmoid 的值，大于0.5函数返回1，否则返回0\n",
    "    :param in_x: 特征向量，features\n",
    "    :param weights: 根据梯度下降/随机梯度下降 计算得到的回归系数\n",
    "    :return: \n",
    "    \"\"\"\n",
    "    # print(np.sum(in_x * weights))\n",
    "    prob = sigmoid(np.sum(in_x * weights))\n",
    "    if prob > 0.5:\n",
    "        return 1.0\n",
    "    return 0.0\n",
    "#data_mat_ce=np.array(data.iloc[20000:,:-1])\n",
    "#for i in data_mat_ce[0:10]:\n",
    "#  print(classify_vector(i,a))"
   ]
  },
  {
   "cell_type": "markdown",
   "metadata": {},
   "source": [
    "##  4. 实际训练\n",
    "###  4.1  随机梯度下降算法训练\n",
    "*  使用平均值结果来衡量，由于训练数据划分没有随机随机化，结构是有些难受啊...\n",
    "*  **但是对于数据的划分在改进之后会有很好的表现，我相信...**"
   ]
  },
  {
   "cell_type": "code",
   "execution_count": 10,
   "metadata": {},
   "outputs": [
    {
     "name": "stdout",
     "output_type": "stream",
     "text": [
      "the error rate is 0.2292014966961229\n",
      "the error rate is 0.3648594857097365\n",
      "the error rate is 0.2452034073720245\n",
      "the error rate is 0.7559111535705756\n",
      "the error rate is 0.7559111535705756\n",
      "the error rate is 0.2309529496059231\n",
      "the error rate is 0.22959955417562297\n",
      "the error rate is 0.2239471379667224\n",
      "the error rate is 0.2239471379667224\n",
      "the error rate is 0.22784810126582278\n",
      "after 10 iteration the average error rate is 0.34873815778998485\n"
     ]
    }
   ],
   "source": [
    "def colic_test():\n",
    "    # 使用 改进后的 随机梯度下降算法 求得在此数据集上的最佳回归系数 trainWeights\n",
    "    # 训练数据  \n",
    "    data_mat=np.array(data.iloc[:20000,:-1])\n",
    "    class_labels=np.array(data.iloc[:20000,-1])\n",
    "    # 计算回归系数\n",
    "    train_weights = stoc_grad_ascent1(data_mat, class_labels, num_iter=500)\n",
    "    \n",
    "    # 初始化\n",
    "    error_count = 0\n",
    "    \n",
    "    # 测试数据\n",
    "    data_mat_ce=np.array(data.iloc[20000:,:-1])\n",
    "    class_label_ce=np.array(data.iloc[20000:,-1])\n",
    "    len_ce=len(class_label_ce)\n",
    "    \n",
    "    # 进行测试，计算分类错误的样本条数和最终的错误率\n",
    "    for i in range(len_ce):\n",
    "        if int(classify_vector(data_mat_ce[i],train_weights)) != int(class_label_ce[i]):\n",
    "            error_count += 1\n",
    "    error_rate = error_count / len_ce\n",
    "    print('the error rate is {}'.format(error_rate))\n",
    "    return error_rate\n",
    " \n",
    " \n",
    "def multi_test():\n",
    "    \"\"\"\n",
    "    调用 colicTest() 10次并求结果的平均值\n",
    "    :return: nothing \n",
    "    \"\"\"\n",
    "    num_tests = 10\n",
    "    error_sum = 0\n",
    "    for k in range(num_tests):\n",
    "        error_sum += colic_test()\n",
    "    print('after {} iteration the average error rate is {}'.format(num_tests, error_sum / num_tests))\n",
    "    \n",
    " \n",
    "if __name__ == '__main__':\n",
    "    #colic_test()\n",
    "    multi_test()"
   ]
  },
  {
   "cell_type": "code",
   "execution_count": null,
   "metadata": {},
   "outputs": [],
   "source": []
  }
 ],
 "metadata": {
  "kernelspec": {
   "display_name": "Python 3",
   "language": "python",
   "name": "python3"
  },
  "language_info": {
   "codemirror_mode": {
    "name": "ipython",
    "version": 3
   },
   "file_extension": ".py",
   "mimetype": "text/x-python",
   "name": "python",
   "nbconvert_exporter": "python",
   "pygments_lexer": "ipython3",
   "version": "3.7.3"
  }
 },
 "nbformat": 4,
 "nbformat_minor": 2
}
